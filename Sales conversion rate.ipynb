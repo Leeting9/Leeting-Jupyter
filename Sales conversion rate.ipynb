{
 "cells": [
  {
   "cell_type": "code",
   "execution_count": 56,
   "id": "fe5b044a",
   "metadata": {},
   "outputs": [],
   "source": [
    "import mysql.connector\n",
    "import pandas as pd\n",
    "\n",
    "# Establish the connection\n",
    "connection = mysql.connector.connect(\n",
    "    host='localhost',        # or '127.0.0.1'\n",
    "    user='root',     # your MySQL username\n",
    "    password='100585Goh.', # your MySQL password\n",
    "    database='platform_copy'  # your database name\n",
    ")\n",
    "\n",
    "cursor = connection.cursor(dictionary=True)  # using dictionary=True for column names in the results"
   ]
  },
  {
   "cell_type": "code",
   "execution_count": 57,
   "id": "319a8429",
   "metadata": {},
   "outputs": [
    {
     "data": {
      "text/html": [
       "<div>\n",
       "<style scoped>\n",
       "    .dataframe tbody tr th:only-of-type {\n",
       "        vertical-align: middle;\n",
       "    }\n",
       "\n",
       "    .dataframe tbody tr th {\n",
       "        vertical-align: top;\n",
       "    }\n",
       "\n",
       "    .dataframe thead th {\n",
       "        text-align: right;\n",
       "    }\n",
       "</style>\n",
       "<table border=\"1\" class=\"dataframe\">\n",
       "  <thead>\n",
       "    <tr style=\"text-align: right;\">\n",
       "      <th></th>\n",
       "      <th>id</th>\n",
       "      <th>meta</th>\n",
       "      <th>createdAt</th>\n",
       "      <th>proceeded</th>\n",
       "      <th>customerId</th>\n",
       "      <th>customerEmail</th>\n",
       "      <th>itemID</th>\n",
       "      <th>callerID</th>\n",
       "      <th>ip_address</th>\n",
       "    </tr>\n",
       "  </thead>\n",
       "  <tbody>\n",
       "    <tr>\n",
       "      <th>0</th>\n",
       "      <td>0011fdb4-59ef-420f-9b6b-d8b5836176a9</td>\n",
       "      <td>{\"userID\": 1711, \"ppeType\": \"has-ppe\", \"reques...</td>\n",
       "      <td>2024-08-19 16:23:53</td>\n",
       "      <td>0</td>\n",
       "      <td>1711.0</td>\n",
       "      <td>wtoh007@gmail.com</td>\n",
       "      <td>NaN</td>\n",
       "      <td>1711.0</td>\n",
       "      <td>None</td>\n",
       "    </tr>\n",
       "    <tr>\n",
       "      <th>1</th>\n",
       "      <td>0041029a-e7bf-4bbb-b9dc-042d080bf4d4</td>\n",
       "      <td>{\"ppeType\": \"has-ppe\", \"request\": {\"noCache\": ...</td>\n",
       "      <td>2024-08-02 04:01:32</td>\n",
       "      <td>1</td>\n",
       "      <td>813.0</td>\n",
       "      <td>purchasing@dropletmeasurement.com</td>\n",
       "      <td>6515.0</td>\n",
       "      <td>42.0</td>\n",
       "      <td>None</td>\n",
       "    </tr>\n",
       "    <tr>\n",
       "      <th>2</th>\n",
       "      <td>004d3070-4009-494f-bc39-9d8dc660ca1a</td>\n",
       "      <td>{\"error\": \"timeout of 60000ms exceeded\", \"user...</td>\n",
       "      <td>2024-08-05 03:53:32</td>\n",
       "      <td>0</td>\n",
       "      <td>45.0</td>\n",
       "      <td>demo@factorem.co</td>\n",
       "      <td>NaN</td>\n",
       "      <td>45.0</td>\n",
       "      <td>122.11.240.23</td>\n",
       "    </tr>\n",
       "    <tr>\n",
       "      <th>3</th>\n",
       "      <td>006063bf-d684-463e-a26b-fcd35bc807d8</td>\n",
       "      <td>{\"userID\": 813, \"ppeType\": \"has-ppe\", \"request...</td>\n",
       "      <td>2024-08-19 16:53:12</td>\n",
       "      <td>0</td>\n",
       "      <td>813.0</td>\n",
       "      <td>purchasing@dropletmeasurement.com</td>\n",
       "      <td>NaN</td>\n",
       "      <td>813.0</td>\n",
       "      <td>161.97.219.50</td>\n",
       "    </tr>\n",
       "    <tr>\n",
       "      <th>4</th>\n",
       "      <td>0077b4b4-04e0-420d-b138-d1410f173269</td>\n",
       "      <td>{\"request\": {\"noCache\": true, \"process\": \"3DP\"...</td>\n",
       "      <td>2024-08-12 06:09:02</td>\n",
       "      <td>0</td>\n",
       "      <td>1674.0</td>\n",
       "      <td>sean@ecoworks.sg</td>\n",
       "      <td>NaN</td>\n",
       "      <td>687.0</td>\n",
       "      <td>None</td>\n",
       "    </tr>\n",
       "  </tbody>\n",
       "</table>\n",
       "</div>"
      ],
      "text/plain": [
       "                                     id  \\\n",
       "0  0011fdb4-59ef-420f-9b6b-d8b5836176a9   \n",
       "1  0041029a-e7bf-4bbb-b9dc-042d080bf4d4   \n",
       "2  004d3070-4009-494f-bc39-9d8dc660ca1a   \n",
       "3  006063bf-d684-463e-a26b-fcd35bc807d8   \n",
       "4  0077b4b4-04e0-420d-b138-d1410f173269   \n",
       "\n",
       "                                                meta           createdAt  \\\n",
       "0  {\"userID\": 1711, \"ppeType\": \"has-ppe\", \"reques... 2024-08-19 16:23:53   \n",
       "1  {\"ppeType\": \"has-ppe\", \"request\": {\"noCache\": ... 2024-08-02 04:01:32   \n",
       "2  {\"error\": \"timeout of 60000ms exceeded\", \"user... 2024-08-05 03:53:32   \n",
       "3  {\"userID\": 813, \"ppeType\": \"has-ppe\", \"request... 2024-08-19 16:53:12   \n",
       "4  {\"request\": {\"noCache\": true, \"process\": \"3DP\"... 2024-08-12 06:09:02   \n",
       "\n",
       "   proceeded  customerId                      customerEmail  itemID  callerID  \\\n",
       "0          0      1711.0                  wtoh007@gmail.com     NaN    1711.0   \n",
       "1          1       813.0  purchasing@dropletmeasurement.com  6515.0      42.0   \n",
       "2          0        45.0                   demo@factorem.co     NaN      45.0   \n",
       "3          0       813.0  purchasing@dropletmeasurement.com     NaN     813.0   \n",
       "4          0      1674.0                   sean@ecoworks.sg     NaN     687.0   \n",
       "\n",
       "      ip_address  \n",
       "0           None  \n",
       "1           None  \n",
       "2  122.11.240.23  \n",
       "3  161.97.219.50  \n",
       "4           None  "
      ]
     },
     "execution_count": 57,
     "metadata": {},
     "output_type": "execute_result"
    }
   ],
   "source": [
    "query1 = \"SELECT * FROM instant_quotes_logs\"\n",
    "cursor.execute(query1)\n",
    "\n",
    "# Fetch all the rows from the result\n",
    "data1 = cursor.fetchall()\n",
    "\n",
    "# Load data into a DataFrame\n",
    "df_iq = pd.DataFrame(data1)\n",
    "df_iq['createdAt'] = pd.to_datetime(df_iq['createdAt'], format='%Y-%m-%d %H:%M:%S')\n",
    "df_iq.head()"
   ]
  },
  {
   "cell_type": "code",
   "execution_count": 58,
   "id": "2be13eb5",
   "metadata": {
    "scrolled": true
   },
   "outputs": [
    {
     "data": {
      "text/html": [
       "<div>\n",
       "<style scoped>\n",
       "    .dataframe tbody tr th:only-of-type {\n",
       "        vertical-align: middle;\n",
       "    }\n",
       "\n",
       "    .dataframe tbody tr th {\n",
       "        vertical-align: top;\n",
       "    }\n",
       "\n",
       "    .dataframe thead th {\n",
       "        text-align: right;\n",
       "    }\n",
       "</style>\n",
       "<table border=\"1\" class=\"dataframe\">\n",
       "  <thead>\n",
       "    <tr style=\"text-align: right;\">\n",
       "      <th></th>\n",
       "      <th>role</th>\n",
       "      <th>name</th>\n",
       "      <th>firstName</th>\n",
       "      <th>lastName</th>\n",
       "      <th>userID</th>\n",
       "      <th>email</th>\n",
       "      <th>password</th>\n",
       "      <th>companyName</th>\n",
       "      <th>companyDesc</th>\n",
       "      <th>address</th>\n",
       "      <th>...</th>\n",
       "      <th>feeType</th>\n",
       "      <th>ppeType</th>\n",
       "      <th>credits</th>\n",
       "      <th>isContactableWhatsApp</th>\n",
       "      <th>isGDPRSubjected</th>\n",
       "      <th>quotationTermsUrl</th>\n",
       "      <th>lastUploadedDate</th>\n",
       "      <th>lastAcceptedOrderDate</th>\n",
       "      <th>keyAccount</th>\n",
       "      <th>tdeType</th>\n",
       "    </tr>\n",
       "  </thead>\n",
       "  <tbody>\n",
       "    <tr>\n",
       "      <th>0</th>\n",
       "      <td>buyer</td>\n",
       "      <td>PEN AVIATION</td>\n",
       "      <td>None</td>\n",
       "      <td>None</td>\n",
       "      <td>1676</td>\n",
       "      <td>engineering.penuas@penaviation.com</td>\n",
       "      <td>$2b$10$aoiSXm9Md4YIopQ/ZVwdLe2keYxwHHrGyDuCc01...</td>\n",
       "      <td>PEN AVIATION SDN BHD</td>\n",
       "      <td>None</td>\n",
       "      <td>A-03-07 Block A, Tropicana Avenue, No.12, Pers...</td>\n",
       "      <td>...</td>\n",
       "      <td>has_fee</td>\n",
       "      <td>has-ppe</td>\n",
       "      <td>0.00</td>\n",
       "      <td>1</td>\n",
       "      <td>0</td>\n",
       "      <td>None</td>\n",
       "      <td>2024-08-02 04:10:48</td>\n",
       "      <td>NaT</td>\n",
       "      <td>0</td>\n",
       "      <td>has-tde</td>\n",
       "    </tr>\n",
       "    <tr>\n",
       "      <th>1</th>\n",
       "      <td>buyer</td>\n",
       "      <td>Dominic</td>\n",
       "      <td>None</td>\n",
       "      <td>None</td>\n",
       "      <td>1679</td>\n",
       "      <td>dominic790@hotmail.com</td>\n",
       "      <td>$2b$10$7CaaN4RIavzTy728M/Fg2uIJVX6gzR1hhtKrJMy...</td>\n",
       "      <td>None</td>\n",
       "      <td>None</td>\n",
       "      <td>None</td>\n",
       "      <td>...</td>\n",
       "      <td>has_fee</td>\n",
       "      <td>has-ppe</td>\n",
       "      <td>0.00</td>\n",
       "      <td>1</td>\n",
       "      <td>0</td>\n",
       "      <td>None</td>\n",
       "      <td>2024-08-02 23:58:54</td>\n",
       "      <td>NaT</td>\n",
       "      <td>0</td>\n",
       "      <td>has-tde</td>\n",
       "    </tr>\n",
       "    <tr>\n",
       "      <th>2</th>\n",
       "      <td>buyer</td>\n",
       "      <td>Dominic Hee</td>\n",
       "      <td>None</td>\n",
       "      <td>None</td>\n",
       "      <td>1680</td>\n",
       "      <td>dominic_hee@amat.com</td>\n",
       "      <td>$2b$10$mh/iXAJEtkpGcYfxCe/7OeNOJneTkmD.b.MOWsV...</td>\n",
       "      <td>Applied materials</td>\n",
       "      <td>None</td>\n",
       "      <td>None</td>\n",
       "      <td>...</td>\n",
       "      <td>has_fee</td>\n",
       "      <td>has-ppe</td>\n",
       "      <td>0.00</td>\n",
       "      <td>1</td>\n",
       "      <td>0</td>\n",
       "      <td>None</td>\n",
       "      <td>NaT</td>\n",
       "      <td>NaT</td>\n",
       "      <td>0</td>\n",
       "      <td>has-tde</td>\n",
       "    </tr>\n",
       "    <tr>\n",
       "      <th>3</th>\n",
       "      <td>buyer</td>\n",
       "      <td>Billy Park</td>\n",
       "      <td>Billy</td>\n",
       "      <td>Park</td>\n",
       "      <td>1682</td>\n",
       "      <td>billypark648@gmail.com</td>\n",
       "      <td>$2b$10$1QBjS7YSb8yyisCPHQxx5e2kFQabquuChETJXJu...</td>\n",
       "      <td>None</td>\n",
       "      <td>None</td>\n",
       "      <td>None</td>\n",
       "      <td>...</td>\n",
       "      <td>has_fee</td>\n",
       "      <td>has-ppe</td>\n",
       "      <td>0.00</td>\n",
       "      <td>0</td>\n",
       "      <td>0</td>\n",
       "      <td>None</td>\n",
       "      <td>2024-08-22 04:00:36</td>\n",
       "      <td>NaT</td>\n",
       "      <td>0</td>\n",
       "      <td>has-tde</td>\n",
       "    </tr>\n",
       "    <tr>\n",
       "      <th>4</th>\n",
       "      <td>buyer</td>\n",
       "      <td>Lucas Heng</td>\n",
       "      <td>Lucas</td>\n",
       "      <td>Heng</td>\n",
       "      <td>1683</td>\n",
       "      <td>lucasheng0616@gmail.com</td>\n",
       "      <td>$2b$10$9xuFUEJJz3iw6GNdAi1T9.CPBb7dnSF886iSc6n...</td>\n",
       "      <td>None</td>\n",
       "      <td>None</td>\n",
       "      <td>None</td>\n",
       "      <td>...</td>\n",
       "      <td>has_fee</td>\n",
       "      <td>has-ppe</td>\n",
       "      <td>0.00</td>\n",
       "      <td>0</td>\n",
       "      <td>0</td>\n",
       "      <td>None</td>\n",
       "      <td>2024-08-04 13:50:10</td>\n",
       "      <td>NaT</td>\n",
       "      <td>0</td>\n",
       "      <td>has-tde</td>\n",
       "    </tr>\n",
       "  </tbody>\n",
       "</table>\n",
       "<p>5 rows × 50 columns</p>\n",
       "</div>"
      ],
      "text/plain": [
       "    role          name firstName lastName  userID  \\\n",
       "0  buyer  PEN AVIATION      None     None    1676   \n",
       "1  buyer      Dominic       None     None    1679   \n",
       "2  buyer   Dominic Hee      None     None    1680   \n",
       "3  buyer    Billy Park     Billy     Park    1682   \n",
       "4  buyer    Lucas Heng     Lucas     Heng    1683   \n",
       "\n",
       "                                email  \\\n",
       "0  engineering.penuas@penaviation.com   \n",
       "1              dominic790@hotmail.com   \n",
       "2                dominic_hee@amat.com   \n",
       "3              billypark648@gmail.com   \n",
       "4             lucasheng0616@gmail.com   \n",
       "\n",
       "                                            password           companyName  \\\n",
       "0  $2b$10$aoiSXm9Md4YIopQ/ZVwdLe2keYxwHHrGyDuCc01...  PEN AVIATION SDN BHD   \n",
       "1  $2b$10$7CaaN4RIavzTy728M/Fg2uIJVX6gzR1hhtKrJMy...                  None   \n",
       "2  $2b$10$mh/iXAJEtkpGcYfxCe/7OeNOJneTkmD.b.MOWsV...    Applied materials    \n",
       "3  $2b$10$1QBjS7YSb8yyisCPHQxx5e2kFQabquuChETJXJu...                  None   \n",
       "4  $2b$10$9xuFUEJJz3iw6GNdAi1T9.CPBb7dnSF886iSc6n...                  None   \n",
       "\n",
       "  companyDesc                                            address  ...  \\\n",
       "0        None  A-03-07 Block A, Tropicana Avenue, No.12, Pers...  ...   \n",
       "1        None                                               None  ...   \n",
       "2        None                                               None  ...   \n",
       "3        None                                               None  ...   \n",
       "4        None                                               None  ...   \n",
       "\n",
       "   feeType  ppeType credits isContactableWhatsApp isGDPRSubjected  \\\n",
       "0  has_fee  has-ppe    0.00                     1               0   \n",
       "1  has_fee  has-ppe    0.00                     1               0   \n",
       "2  has_fee  has-ppe    0.00                     1               0   \n",
       "3  has_fee  has-ppe    0.00                     0               0   \n",
       "4  has_fee  has-ppe    0.00                     0               0   \n",
       "\n",
       "  quotationTermsUrl    lastUploadedDate lastAcceptedOrderDate keyAccount  \\\n",
       "0              None 2024-08-02 04:10:48                   NaT          0   \n",
       "1              None 2024-08-02 23:58:54                   NaT          0   \n",
       "2              None                 NaT                   NaT          0   \n",
       "3              None 2024-08-22 04:00:36                   NaT          0   \n",
       "4              None 2024-08-04 13:50:10                   NaT          0   \n",
       "\n",
       "   tdeType  \n",
       "0  has-tde  \n",
       "1  has-tde  \n",
       "2  has-tde  \n",
       "3  has-tde  \n",
       "4  has-tde  \n",
       "\n",
       "[5 rows x 50 columns]"
      ]
     },
     "execution_count": 58,
     "metadata": {},
     "output_type": "execute_result"
    }
   ],
   "source": [
    "query2 = \"SELECT * FROM users where role = 'buyer' and verificationMethod is not null\"\n",
    "cursor.execute(query2)\n",
    "\n",
    "# Fetch all the rows from the result\n",
    "data2 = cursor.fetchall()\n",
    "\n",
    "# Load data into a DataFrame\n",
    "df_user = pd.DataFrame(data2)\n",
    "df_user.head()\n",
    "\n"
   ]
  },
  {
   "cell_type": "code",
   "execution_count": 59,
   "id": "9a975616",
   "metadata": {
    "scrolled": true
   },
   "outputs": [
    {
     "data": {
      "text/plain": [
       "Index(['role', 'name', 'firstName', 'lastName', 'userID', 'email', 'password',\n",
       "       'companyName', 'companyDesc', 'address', 'country', 'contact',\n",
       "       'profilePic', 'registrationDate', 'emailVerifiedAt', 'creditType',\n",
       "       'paymentTerms', 'verificationCode', 'verificationNumber',\n",
       "       'verificationExpiry', 'verificationDate', 'verificationMethod', 'qAndA',\n",
       "       'techTags', 'supplierGstPercent', 'xeroContactID', 'financeEmail',\n",
       "       'stripeCustomerID', 'supplierDiscountPercent', 'secondaryName',\n",
       "       'secondaryEmail', 'secondaryContact', 'industrySector', 'customerType',\n",
       "       'ndaFileUrl', 'ndaVerified', 'ndaVerifiedDate', 'ndaVerificationLog',\n",
       "       'customerStatus', 'companyID', 'feeType', 'ppeType', 'credits',\n",
       "       'isContactableWhatsApp', 'isGDPRSubjected', 'quotationTermsUrl',\n",
       "       'lastUploadedDate', 'lastAcceptedOrderDate', 'keyAccount', 'tdeType'],\n",
       "      dtype='object')"
      ]
     },
     "execution_count": 59,
     "metadata": {},
     "output_type": "execute_result"
    }
   ],
   "source": [
    "df_user.columns"
   ]
  },
  {
   "cell_type": "code",
   "execution_count": 60,
   "id": "1875d813",
   "metadata": {},
   "outputs": [],
   "source": [
    "df999 = df_user[['userID']]"
   ]
  },
  {
   "cell_type": "code",
   "execution_count": 61,
   "id": "4ac5a7ac",
   "metadata": {},
   "outputs": [
    {
     "data": {
      "text/plain": [
       "29"
      ]
     },
     "execution_count": 61,
     "metadata": {},
     "output_type": "execute_result"
    }
   ],
   "source": [
    "user_count = len(df_user)\n",
    "user_count"
   ]
  },
  {
   "cell_type": "markdown",
   "id": "57ddca9d",
   "metadata": {},
   "source": [
    "### Users signup from /signup"
   ]
  },
  {
   "cell_type": "code",
   "execution_count": 62,
   "id": "48a9adca",
   "metadata": {},
   "outputs": [
    {
     "data": {
      "text/plain": [
       "11"
      ]
     },
     "execution_count": 62,
     "metadata": {},
     "output_type": "execute_result"
    }
   ],
   "source": [
    "su_count = (df_user['verificationMethod']=='Verification Link').sum()\n",
    "su_count"
   ]
  },
  {
   "cell_type": "markdown",
   "id": "57823ad4",
   "metadata": {},
   "source": [
    "### Users signup from /getquotenow"
   ]
  },
  {
   "cell_type": "code",
   "execution_count": 64,
   "id": "fe5e07e5",
   "metadata": {},
   "outputs": [
    {
     "name": "stdout",
     "output_type": "stream",
     "text": [
      "Signup users count in Aug 2024: 18\n"
     ]
    }
   ],
   "source": [
    "df_signup_gqn = df_user.loc[df_user['verificationMethod']=='Verification Code']\n",
    "print(f\"Signup users count in Aug 2024: {len(df_signup_gqn)}\")"
   ]
  },
  {
   "cell_type": "code",
   "execution_count": 65,
   "id": "6e45feb8",
   "metadata": {},
   "outputs": [
    {
     "data": {
      "text/plain": [
       "166"
      ]
     },
     "execution_count": 65,
     "metadata": {},
     "output_type": "execute_result"
    }
   ],
   "source": [
    "df_signup_gqn = pd.merge(df_signup_gqn[['userID']], df_iq, left_on=\"userID\", right_on=\"customerId\", how=\"inner\").drop(columns=['userID'])\n",
    "len(df_signup_gqn)"
   ]
  },
  {
   "cell_type": "code",
   "execution_count": 67,
   "id": "9f6f7263",
   "metadata": {},
   "outputs": [
    {
     "name": "stdout",
     "output_type": "stream",
     "text": [
      "There are total of 166 logs belong to 18 users who signed up via /gqn.\n"
     ]
    }
   ],
   "source": [
    "print(f\"There are total of {len(df_signup_gqn)} logs belong to {df_signup_gqn['customerId'].nunique()} users who signed up via /gqn.\")"
   ]
  },
  {
   "cell_type": "markdown",
   "id": "1a3192de-2fe8-4421-a675-529b68a8659d",
   "metadata": {},
   "source": [
    "### Users who didn't sign up after got quote"
   ]
  },
  {
   "cell_type": "code",
   "execution_count": 37,
   "id": "5fc46b56",
   "metadata": {
    "scrolled": true
   },
   "outputs": [
    {
     "data": {
      "text/plain": [
       "114"
      ]
     },
     "execution_count": 37,
     "metadata": {},
     "output_type": "execute_result"
    }
   ],
   "source": [
    "df_iq_notsignup = df_iq[df_iq['customerId'].isnull()].sort_values(by=['createdAt'])\n",
    "len(df_iq_notsignup)"
   ]
  },
  {
   "cell_type": "markdown",
   "id": "48668579",
   "metadata": {},
   "source": [
    "**With IP Address**"
   ]
  },
  {
   "cell_type": "code",
   "execution_count": 38,
   "id": "06b9c1a3",
   "metadata": {},
   "outputs": [
    {
     "name": "stdout",
     "output_type": "stream",
     "text": [
      "Unique IP count: 5\n"
     ]
    }
   ],
   "source": [
    "df_ip_notsignup = df_iq_notsignup[df_iq_notsignup['ip_address'].notna()]\n",
    "ip_count = df_ip_notsignup['ip_address'].nunique()\n",
    "print(f\"Unique IP count: {ip_count}\")"
   ]
  },
  {
   "cell_type": "code",
   "execution_count": 41,
   "id": "9d82e7f6",
   "metadata": {},
   "outputs": [
    {
     "name": "stdout",
     "output_type": "stream",
     "text": [
      "There are 21 logs (contain multiple items by same user) have an IP address.\n"
     ]
    }
   ],
   "source": [
    "print(f\"There are {len(df_ip_notsignup)} logs (contain multiple items by same user) have an IP address.\")"
   ]
  },
  {
   "cell_type": "markdown",
   "id": "31085ff2",
   "metadata": {},
   "source": [
    "**Without IP Address**"
   ]
  },
  {
   "cell_type": "code",
   "execution_count": 85,
   "id": "e583c3c7",
   "metadata": {},
   "outputs": [
    {
     "name": "stdout",
     "output_type": "stream",
     "text": [
      "There are 93 logs (contain multiple items by same user) do not have an IP address.\n"
     ]
    }
   ],
   "source": [
    "df_noip_notsignup = df_iq_notsignup.loc[df_iq_notsignup['ip_address'].isna()].reset_index()\n",
    "\n",
    "print(f\"There are {len(df_noip_notsignup)} logs (contain multiple items by same user) do not have an IP address.\")\n"
   ]
  },
  {
   "cell_type": "code",
   "execution_count": 86,
   "id": "7aa8de3e",
   "metadata": {},
   "outputs": [
    {
     "data": {
      "text/html": [
       "<div>\n",
       "<style scoped>\n",
       "    .dataframe tbody tr th:only-of-type {\n",
       "        vertical-align: middle;\n",
       "    }\n",
       "\n",
       "    .dataframe tbody tr th {\n",
       "        vertical-align: top;\n",
       "    }\n",
       "\n",
       "    .dataframe thead th {\n",
       "        text-align: right;\n",
       "    }\n",
       "</style>\n",
       "<table border=\"1\" class=\"dataframe\">\n",
       "  <thead>\n",
       "    <tr style=\"text-align: right;\">\n",
       "      <th></th>\n",
       "      <th>index</th>\n",
       "      <th>id</th>\n",
       "      <th>meta</th>\n",
       "      <th>createdAt</th>\n",
       "      <th>proceeded</th>\n",
       "      <th>customerId</th>\n",
       "      <th>customerEmail</th>\n",
       "      <th>itemID</th>\n",
       "      <th>callerID</th>\n",
       "      <th>ip_address</th>\n",
       "      <th>time_diff</th>\n",
       "    </tr>\n",
       "  </thead>\n",
       "  <tbody>\n",
       "    <tr>\n",
       "      <th>0</th>\n",
       "      <td>720</td>\n",
       "      <td>7b4433cc-2ad8-455a-9053-62e320648457</td>\n",
       "      <td>{\"ppeType\": null, \"request\": {\"process\": \"3DP\"...</td>\n",
       "      <td>2024-08-03 19:22:46</td>\n",
       "      <td>0</td>\n",
       "      <td>NaN</td>\n",
       "      <td>None</td>\n",
       "      <td>NaN</td>\n",
       "      <td>NaN</td>\n",
       "      <td>None</td>\n",
       "      <td>0.0</td>\n",
       "    </tr>\n",
       "    <tr>\n",
       "      <th>1</th>\n",
       "      <td>675</td>\n",
       "      <td>7296a32d-784d-42d4-8366-32d667425976</td>\n",
       "      <td>{\"ppeType\": null, \"request\": {\"process\": \"CNC\"...</td>\n",
       "      <td>2024-08-04 05:42:42</td>\n",
       "      <td>0</td>\n",
       "      <td>NaN</td>\n",
       "      <td>None</td>\n",
       "      <td>NaN</td>\n",
       "      <td>NaN</td>\n",
       "      <td>None</td>\n",
       "      <td>37196.0</td>\n",
       "    </tr>\n",
       "    <tr>\n",
       "      <th>2</th>\n",
       "      <td>609</td>\n",
       "      <td>6800efef-5885-4899-ac9a-d3406f85bea8</td>\n",
       "      <td>{\"ppeType\": null, \"request\": {\"process\": \"CNC\"...</td>\n",
       "      <td>2024-08-04 05:42:57</td>\n",
       "      <td>0</td>\n",
       "      <td>NaN</td>\n",
       "      <td>None</td>\n",
       "      <td>NaN</td>\n",
       "      <td>NaN</td>\n",
       "      <td>None</td>\n",
       "      <td>15.0</td>\n",
       "    </tr>\n",
       "    <tr>\n",
       "      <th>3</th>\n",
       "      <td>1470</td>\n",
       "      <td>fd9696a3-e1fe-4354-a280-283bcaca638a</td>\n",
       "      <td>{\"ppeType\": null, \"request\": {\"process\": \"Inje...</td>\n",
       "      <td>2024-08-04 12:08:45</td>\n",
       "      <td>0</td>\n",
       "      <td>NaN</td>\n",
       "      <td>None</td>\n",
       "      <td>NaN</td>\n",
       "      <td>NaN</td>\n",
       "      <td>None</td>\n",
       "      <td>23148.0</td>\n",
       "    </tr>\n",
       "    <tr>\n",
       "      <th>4</th>\n",
       "      <td>227</td>\n",
       "      <td>2291e503-dedc-46e4-adbb-40a6204734a4</td>\n",
       "      <td>{\"ppeType\": null, \"request\": {\"process\": \"Inje...</td>\n",
       "      <td>2024-08-04 12:09:07</td>\n",
       "      <td>0</td>\n",
       "      <td>NaN</td>\n",
       "      <td>None</td>\n",
       "      <td>NaN</td>\n",
       "      <td>NaN</td>\n",
       "      <td>None</td>\n",
       "      <td>22.0</td>\n",
       "    </tr>\n",
       "  </tbody>\n",
       "</table>\n",
       "</div>"
      ],
      "text/plain": [
       "   index                                    id  \\\n",
       "0    720  7b4433cc-2ad8-455a-9053-62e320648457   \n",
       "1    675  7296a32d-784d-42d4-8366-32d667425976   \n",
       "2    609  6800efef-5885-4899-ac9a-d3406f85bea8   \n",
       "3   1470  fd9696a3-e1fe-4354-a280-283bcaca638a   \n",
       "4    227  2291e503-dedc-46e4-adbb-40a6204734a4   \n",
       "\n",
       "                                                meta           createdAt  \\\n",
       "0  {\"ppeType\": null, \"request\": {\"process\": \"3DP\"... 2024-08-03 19:22:46   \n",
       "1  {\"ppeType\": null, \"request\": {\"process\": \"CNC\"... 2024-08-04 05:42:42   \n",
       "2  {\"ppeType\": null, \"request\": {\"process\": \"CNC\"... 2024-08-04 05:42:57   \n",
       "3  {\"ppeType\": null, \"request\": {\"process\": \"Inje... 2024-08-04 12:08:45   \n",
       "4  {\"ppeType\": null, \"request\": {\"process\": \"Inje... 2024-08-04 12:09:07   \n",
       "\n",
       "   proceeded  customerId customerEmail  itemID  callerID ip_address  time_diff  \n",
       "0          0         NaN          None     NaN       NaN       None        0.0  \n",
       "1          0         NaN          None     NaN       NaN       None    37196.0  \n",
       "2          0         NaN          None     NaN       NaN       None       15.0  \n",
       "3          0         NaN          None     NaN       NaN       None    23148.0  \n",
       "4          0         NaN          None     NaN       NaN       None       22.0  "
      ]
     },
     "execution_count": 86,
     "metadata": {},
     "output_type": "execute_result"
    }
   ],
   "source": [
    "# Calculate the difference in seconds between consecutive rows\n",
    "df_noip_notsignup['time_diff'] = df_noip_notsignup['createdAt'].diff().dt.total_seconds().fillna(0)\n",
    "\n",
    "df_noip_notsignup.head()"
   ]
  },
  {
   "cell_type": "code",
   "execution_count": 45,
   "id": "db282d55",
   "metadata": {},
   "outputs": [
    {
     "data": {
      "image/png": "[encoded data removed]",
      "text/plain": [
       "<Figure size 640x480 with 1 Axes>"
      ]
     },
     "metadata": {},
     "output_type": "display_data"
    }
   ],
   "source": [
    "import matplotlib.pyplot as plt\n",
    "\n",
    "bin_edges=[x*10 for x in range(21)]\n",
    "\n",
    "_ = plt.hist(df_noip_notsignup['time_diff'], bins=bin_edges)\n",
    "_ = plt.xlabel('time_diff')\n",
    "_ = plt.ylabel('frequency')\n",
    "\n",
    "plt.show()\n",
    "\n"
   ]
  },
  {
   "cell_type": "code",
   "execution_count": 87,
   "id": "e6bdd21d",
   "metadata": {},
   "outputs": [
    {
     "name": "stdout",
     "output_type": "stream",
     "text": [
      "Estimated 61 users not sign up and have no IP address.\n"
     ]
    }
   ],
   "source": [
    "# Create an empty list to store the group IDs\n",
    "group_id = []\n",
    "current_group = 0\n",
    "\n",
    "# Iterate over the DataFrame and assign group IDs based on time_diff > 80\n",
    "for i, row in df_noip_notsignup.iterrows():\n",
    "    if i == 0 or row['time_diff'] > 80:  # If first row or time_diff > 80, create a new group\n",
    "        current_group += 1\n",
    "    group_id.append(current_group)\n",
    "\n",
    "# Assign group IDs to a new column\n",
    "df_noip_notsignup['group'] = group_id\n",
    "\n",
    "noip_count = df_noip_notsignup['group'].max()\n",
    "print(f\"Estimated {noip_count} users not sign up and have no IP address.\")"
   ]
  },
  {
   "cell_type": "code",
   "execution_count": 88,
   "id": "77f2169b",
   "metadata": {},
   "outputs": [
    {
     "data": {
      "text/html": [
       "<div>\n",
       "<style scoped>\n",
       "    .dataframe tbody tr th:only-of-type {\n",
       "        vertical-align: middle;\n",
       "    }\n",
       "\n",
       "    .dataframe tbody tr th {\n",
       "        vertical-align: top;\n",
       "    }\n",
       "\n",
       "    .dataframe thead th {\n",
       "        text-align: right;\n",
       "    }\n",
       "</style>\n",
       "<table border=\"1\" class=\"dataframe\">\n",
       "  <thead>\n",
       "    <tr style=\"text-align: right;\">\n",
       "      <th></th>\n",
       "      <th>index</th>\n",
       "      <th>id</th>\n",
       "      <th>meta</th>\n",
       "      <th>createdAt</th>\n",
       "      <th>proceeded</th>\n",
       "      <th>customerId</th>\n",
       "      <th>customerEmail</th>\n",
       "      <th>itemID</th>\n",
       "      <th>callerID</th>\n",
       "      <th>ip_address</th>\n",
       "      <th>time_diff</th>\n",
       "      <th>group</th>\n",
       "    </tr>\n",
       "  </thead>\n",
       "  <tbody>\n",
       "    <tr>\n",
       "      <th>0</th>\n",
       "      <td>720</td>\n",
       "      <td>7b4433cc-2ad8-455a-9053-62e320648457</td>\n",
       "      <td>{\"ppeType\": null, \"request\": {\"process\": \"3DP\"...</td>\n",
       "      <td>2024-08-03 19:22:46</td>\n",
       "      <td>0</td>\n",
       "      <td>NaN</td>\n",
       "      <td>None</td>\n",
       "      <td>NaN</td>\n",
       "      <td>NaN</td>\n",
       "      <td>None</td>\n",
       "      <td>0.0</td>\n",
       "      <td>1</td>\n",
       "    </tr>\n",
       "    <tr>\n",
       "      <th>1</th>\n",
       "      <td>675</td>\n",
       "      <td>7296a32d-784d-42d4-8366-32d667425976</td>\n",
       "      <td>{\"ppeType\": null, \"request\": {\"process\": \"CNC\"...</td>\n",
       "      <td>2024-08-04 05:42:42</td>\n",
       "      <td>0</td>\n",
       "      <td>NaN</td>\n",
       "      <td>None</td>\n",
       "      <td>NaN</td>\n",
       "      <td>NaN</td>\n",
       "      <td>None</td>\n",
       "      <td>37196.0</td>\n",
       "      <td>2</td>\n",
       "    </tr>\n",
       "    <tr>\n",
       "      <th>2</th>\n",
       "      <td>609</td>\n",
       "      <td>6800efef-5885-4899-ac9a-d3406f85bea8</td>\n",
       "      <td>{\"ppeType\": null, \"request\": {\"process\": \"CNC\"...</td>\n",
       "      <td>2024-08-04 05:42:57</td>\n",
       "      <td>0</td>\n",
       "      <td>NaN</td>\n",
       "      <td>None</td>\n",
       "      <td>NaN</td>\n",
       "      <td>NaN</td>\n",
       "      <td>None</td>\n",
       "      <td>15.0</td>\n",
       "      <td>2</td>\n",
       "    </tr>\n",
       "    <tr>\n",
       "      <th>3</th>\n",
       "      <td>1470</td>\n",
       "      <td>fd9696a3-e1fe-4354-a280-283bcaca638a</td>\n",
       "      <td>{\"ppeType\": null, \"request\": {\"process\": \"Inje...</td>\n",
       "      <td>2024-08-04 12:08:45</td>\n",
       "      <td>0</td>\n",
       "      <td>NaN</td>\n",
       "      <td>None</td>\n",
       "      <td>NaN</td>\n",
       "      <td>NaN</td>\n",
       "      <td>None</td>\n",
       "      <td>23148.0</td>\n",
       "      <td>3</td>\n",
       "    </tr>\n",
       "    <tr>\n",
       "      <th>4</th>\n",
       "      <td>227</td>\n",
       "      <td>2291e503-dedc-46e4-adbb-40a6204734a4</td>\n",
       "      <td>{\"ppeType\": null, \"request\": {\"process\": \"Inje...</td>\n",
       "      <td>2024-08-04 12:09:07</td>\n",
       "      <td>0</td>\n",
       "      <td>NaN</td>\n",
       "      <td>None</td>\n",
       "      <td>NaN</td>\n",
       "      <td>NaN</td>\n",
       "      <td>None</td>\n",
       "      <td>22.0</td>\n",
       "      <td>3</td>\n",
       "    </tr>\n",
       "  </tbody>\n",
       "</table>\n",
       "</div>"
      ],
      "text/plain": [
       "   index                                    id  \\\n",
       "0    720  7b4433cc-2ad8-455a-9053-62e320648457   \n",
       "1    675  7296a32d-784d-42d4-8366-32d667425976   \n",
       "2    609  6800efef-5885-4899-ac9a-d3406f85bea8   \n",
       "3   1470  fd9696a3-e1fe-4354-a280-283bcaca638a   \n",
       "4    227  2291e503-dedc-46e4-adbb-40a6204734a4   \n",
       "\n",
       "                                                meta           createdAt  \\\n",
       "0  {\"ppeType\": null, \"request\": {\"process\": \"3DP\"... 2024-08-03 19:22:46   \n",
       "1  {\"ppeType\": null, \"request\": {\"process\": \"CNC\"... 2024-08-04 05:42:42   \n",
       "2  {\"ppeType\": null, \"request\": {\"process\": \"CNC\"... 2024-08-04 05:42:57   \n",
       "3  {\"ppeType\": null, \"request\": {\"process\": \"Inje... 2024-08-04 12:08:45   \n",
       "4  {\"ppeType\": null, \"request\": {\"process\": \"Inje... 2024-08-04 12:09:07   \n",
       "\n",
       "   proceeded  customerId customerEmail  itemID  callerID ip_address  \\\n",
       "0          0         NaN          None     NaN       NaN       None   \n",
       "1          0         NaN          None     NaN       NaN       None   \n",
       "2          0         NaN          None     NaN       NaN       None   \n",
       "3          0         NaN          None     NaN       NaN       None   \n",
       "4          0         NaN          None     NaN       NaN       None   \n",
       "\n",
       "   time_diff  group  \n",
       "0        0.0      1  \n",
       "1    37196.0      2  \n",
       "2       15.0      2  \n",
       "3    23148.0      3  \n",
       "4       22.0      3  "
      ]
     },
     "execution_count": 88,
     "metadata": {},
     "output_type": "execute_result"
    }
   ],
   "source": [
    "df_noip_notsignup.head()"
   ]
  },
  {
   "cell_type": "code",
   "execution_count": 89,
   "id": "aa3d4f24",
   "metadata": {},
   "outputs": [],
   "source": [
    "total_count = user_count + ip_count + noip_count"
   ]
  },
  {
   "cell_type": "code",
   "execution_count": 90,
   "id": "493fb80d",
   "metadata": {},
   "outputs": [
    {
     "data": {
      "text/html": [
       "<div>\n",
       "<style scoped>\n",
       "    .dataframe tbody tr th:only-of-type {\n",
       "        vertical-align: middle;\n",
       "    }\n",
       "\n",
       "    .dataframe tbody tr th {\n",
       "        vertical-align: top;\n",
       "    }\n",
       "\n",
       "    .dataframe thead th {\n",
       "        text-align: right;\n",
       "    }\n",
       "</style>\n",
       "<table border=\"1\" class=\"dataframe\">\n",
       "  <thead>\n",
       "    <tr style=\"text-align: right;\">\n",
       "      <th></th>\n",
       "      <th>month</th>\n",
       "      <th>tot_signup</th>\n",
       "      <th>su_signup</th>\n",
       "      <th>gqn_signup</th>\n",
       "      <th>ip_nsignup</th>\n",
       "      <th>noip_nsignup</th>\n",
       "      <th>no_user_upload_part</th>\n",
       "    </tr>\n",
       "  </thead>\n",
       "  <tbody>\n",
       "    <tr>\n",
       "      <th>0</th>\n",
       "      <td>8</td>\n",
       "      <td>29</td>\n",
       "      <td>11</td>\n",
       "      <td>18</td>\n",
       "      <td>5</td>\n",
       "      <td>61</td>\n",
       "      <td>95</td>\n",
       "    </tr>\n",
       "  </tbody>\n",
       "</table>\n",
       "</div>"
      ],
      "text/plain": [
       "  month  tot_signup  su_signup  gqn_signup  ip_nsignup  noip_nsignup  \\\n",
       "0     8          29         11          18           5            61   \n",
       "\n",
       "   no_user_upload_part  \n",
       "0                   95  "
      ]
     },
     "execution_count": 90,
     "metadata": {},
     "output_type": "execute_result"
    }
   ],
   "source": [
    "data = {\n",
    "    'month':['8'],\n",
    "    'tot_signup' :[user_count],\n",
    "    'su_signup':[su_count],\n",
    "    'gqn_signup': [gqn_count],\n",
    "    'ip_nsignup':[ip_count],\n",
    "    'noip_nsignup':[noip_count],\n",
    "    'no_user_upload_part':[total_count]\n",
    "}\n",
    "\n",
    "df0 = pd.DataFrame(data)\n",
    "df0"
   ]
  },
  {
   "cell_type": "markdown",
   "id": "c02776c2",
   "metadata": {},
   "source": [
    "### Analysis on using own / sample files"
   ]
  },
  {
   "cell_type": "code",
   "execution_count": 77,
   "id": "5ce04c3a",
   "metadata": {},
   "outputs": [],
   "source": [
    "def extract_cad_file_location(meta_json):\n",
    "    try:\n",
    "        json_data = json.loads(meta_json)\n",
    "        return json_data['request']['parameters']['customer_cad_file_location']\n",
    "    except (KeyError, json.JSONDecodeError):\n",
    "        return None  # Return None if the JSON structure is invalid or key is missing\n",
    "\n",
    "def searchforownfile(df, variable):\n",
    "    # Extract 'customer_cad_file_location' and store in a new column 'cad_file_location'\n",
    "    df['cad_file_location'] = df['meta'].apply(extract_cad_file_location)\n",
    "\n",
    "    # Create the 'usingsamplefile' column by checking if 'Factorem_Sample_Part' is in 'cad_file_location'\n",
    "    df['usingownfile'] = df['cad_file_location'].apply(lambda x: 0 if x and 'Factorem_Sample_Part' in x else 1)\n",
    "    \n",
    "    df_grouped = df.groupby(variable)['usingownfile'].sum().reset_index()\n",
    "    return df_grouped"
   ]
  },
  {
   "cell_type": "code",
   "execution_count": 80,
   "id": "26b3c66d",
   "metadata": {},
   "outputs": [
    {
     "data": {
      "text/html": [
       "<div>\n",
       "<style scoped>\n",
       "    .dataframe tbody tr th:only-of-type {\n",
       "        vertical-align: middle;\n",
       "    }\n",
       "\n",
       "    .dataframe tbody tr th {\n",
       "        vertical-align: top;\n",
       "    }\n",
       "\n",
       "    .dataframe thead th {\n",
       "        text-align: right;\n",
       "    }\n",
       "</style>\n",
       "<table border=\"1\" class=\"dataframe\">\n",
       "  <thead>\n",
       "    <tr style=\"text-align: right;\">\n",
       "      <th></th>\n",
       "      <th>customerId</th>\n",
       "      <th>usingownfile</th>\n",
       "    </tr>\n",
       "  </thead>\n",
       "  <tbody>\n",
       "    <tr>\n",
       "      <th>0</th>\n",
       "      <td>1682.0</td>\n",
       "      <td>48</td>\n",
       "    </tr>\n",
       "    <tr>\n",
       "      <th>1</th>\n",
       "      <td>1683.0</td>\n",
       "      <td>3</td>\n",
       "    </tr>\n",
       "    <tr>\n",
       "      <th>2</th>\n",
       "      <td>1691.0</td>\n",
       "      <td>5</td>\n",
       "    </tr>\n",
       "    <tr>\n",
       "      <th>3</th>\n",
       "      <td>1692.0</td>\n",
       "      <td>5</td>\n",
       "    </tr>\n",
       "    <tr>\n",
       "      <th>4</th>\n",
       "      <td>1694.0</td>\n",
       "      <td>1</td>\n",
       "    </tr>\n",
       "  </tbody>\n",
       "</table>\n",
       "</div>"
      ],
      "text/plain": [
       "   customerId  usingownfile\n",
       "0      1682.0            48\n",
       "1      1683.0             3\n",
       "2      1691.0             5\n",
       "3      1692.0             5\n",
       "4      1694.0             1"
      ]
     },
     "execution_count": 80,
     "metadata": {},
     "output_type": "execute_result"
    }
   ],
   "source": [
    "dftemp = searchforownfile(df_signup_gqn, 'customerId')\n",
    "dftemp.head()"
   ]
  },
  {
   "cell_type": "code",
   "execution_count": 81,
   "id": "93b459df",
   "metadata": {},
   "outputs": [
    {
     "name": "stderr",
     "output_type": "stream",
     "text": [
      "C:\\Users\\leeting\\AppData\\Local\\Temp\\ipykernel_17068\\928413337.py:10: SettingWithCopyWarning: \n",
      "A value is trying to be set on a copy of a slice from a DataFrame.\n",
      "Try using .loc[row_indexer,col_indexer] = value instead\n",
      "\n",
      "See the caveats in the documentation: https://pandas.pydata.org/pandas-docs/stable/user_guide/indexing.html#returning-a-view-versus-a-copy\n",
      "  df['cad_file_location'] = df['meta'].apply(extract_cad_file_location)\n",
      "C:\\Users\\leeting\\AppData\\Local\\Temp\\ipykernel_17068\\928413337.py:13: SettingWithCopyWarning: \n",
      "A value is trying to be set on a copy of a slice from a DataFrame.\n",
      "Try using .loc[row_indexer,col_indexer] = value instead\n",
      "\n",
      "See the caveats in the documentation: https://pandas.pydata.org/pandas-docs/stable/user_guide/indexing.html#returning-a-view-versus-a-copy\n",
      "  df['usingownfile'] = df['cad_file_location'].apply(lambda x: 0 if x and 'Factorem_Sample_Part' in x else 1)\n"
     ]
    },
    {
     "data": {
      "text/html": [
       "<div>\n",
       "<style scoped>\n",
       "    .dataframe tbody tr th:only-of-type {\n",
       "        vertical-align: middle;\n",
       "    }\n",
       "\n",
       "    .dataframe tbody tr th {\n",
       "        vertical-align: top;\n",
       "    }\n",
       "\n",
       "    .dataframe thead th {\n",
       "        text-align: right;\n",
       "    }\n",
       "</style>\n",
       "<table border=\"1\" class=\"dataframe\">\n",
       "  <thead>\n",
       "    <tr style=\"text-align: right;\">\n",
       "      <th></th>\n",
       "      <th>ip_address</th>\n",
       "      <th>usingownfile</th>\n",
       "    </tr>\n",
       "  </thead>\n",
       "  <tbody>\n",
       "    <tr>\n",
       "      <th>0</th>\n",
       "      <td>111.65.45.200</td>\n",
       "      <td>4</td>\n",
       "    </tr>\n",
       "    <tr>\n",
       "      <th>1</th>\n",
       "      <td>122.11.240.23</td>\n",
       "      <td>4</td>\n",
       "    </tr>\n",
       "    <tr>\n",
       "      <th>2</th>\n",
       "      <td>2406:3003:2004:7ddc:b090:cdf9:31cd:fa9c</td>\n",
       "      <td>3</td>\n",
       "    </tr>\n",
       "    <tr>\n",
       "      <th>3</th>\n",
       "      <td>2406:3003:2005:3091:206c:efa4:6570:d438</td>\n",
       "      <td>4</td>\n",
       "    </tr>\n",
       "    <tr>\n",
       "      <th>4</th>\n",
       "      <td>2803:de10:2:2288:e9e1:f138:61f6:e515</td>\n",
       "      <td>0</td>\n",
       "    </tr>\n",
       "  </tbody>\n",
       "</table>\n",
       "</div>"
      ],
      "text/plain": [
       "                                ip_address  usingownfile\n",
       "0                            111.65.45.200             4\n",
       "1                            122.11.240.23             4\n",
       "2  2406:3003:2004:7ddc:b090:cdf9:31cd:fa9c             3\n",
       "3  2406:3003:2005:3091:206c:efa4:6570:d438             4\n",
       "4     2803:de10:2:2288:e9e1:f138:61f6:e515             0"
      ]
     },
     "execution_count": 81,
     "metadata": {},
     "output_type": "execute_result"
    }
   ],
   "source": [
    "dftemp2 = searchforownfile(df_ip_notsignup, 'ip_address')\n",
    "dftemp2.head()"
   ]
  },
  {
   "cell_type": "code",
   "execution_count": 91,
   "id": "d9c8ccf0",
   "metadata": {
    "scrolled": true
   },
   "outputs": [
    {
     "data": {
      "text/html": [
       "<div>\n",
       "<style scoped>\n",
       "    .dataframe tbody tr th:only-of-type {\n",
       "        vertical-align: middle;\n",
       "    }\n",
       "\n",
       "    .dataframe tbody tr th {\n",
       "        vertical-align: top;\n",
       "    }\n",
       "\n",
       "    .dataframe thead th {\n",
       "        text-align: right;\n",
       "    }\n",
       "</style>\n",
       "<table border=\"1\" class=\"dataframe\">\n",
       "  <thead>\n",
       "    <tr style=\"text-align: right;\">\n",
       "      <th></th>\n",
       "      <th>group</th>\n",
       "      <th>usingownfile</th>\n",
       "    </tr>\n",
       "  </thead>\n",
       "  <tbody>\n",
       "    <tr>\n",
       "      <th>0</th>\n",
       "      <td>1</td>\n",
       "      <td>0</td>\n",
       "    </tr>\n",
       "    <tr>\n",
       "      <th>1</th>\n",
       "      <td>2</td>\n",
       "      <td>0</td>\n",
       "    </tr>\n",
       "    <tr>\n",
       "      <th>2</th>\n",
       "      <td>3</td>\n",
       "      <td>0</td>\n",
       "    </tr>\n",
       "    <tr>\n",
       "      <th>3</th>\n",
       "      <td>4</td>\n",
       "      <td>0</td>\n",
       "    </tr>\n",
       "    <tr>\n",
       "      <th>4</th>\n",
       "      <td>5</td>\n",
       "      <td>0</td>\n",
       "    </tr>\n",
       "  </tbody>\n",
       "</table>\n",
       "</div>"
      ],
      "text/plain": [
       "   group  usingownfile\n",
       "0      1             0\n",
       "1      2             0\n",
       "2      3             0\n",
       "3      4             0\n",
       "4      5             0"
      ]
     },
     "execution_count": 91,
     "metadata": {},
     "output_type": "execute_result"
    }
   ],
   "source": [
    "dftemp3 = searchforownfile(df_noip_notsignup, 'group')\n",
    "dftemp3.head()"
   ]
  },
  {
   "cell_type": "code",
   "execution_count": 92,
   "id": "5a8855fe",
   "metadata": {},
   "outputs": [
    {
     "data": {
      "text/plain": [
       "84"
      ]
     },
     "execution_count": 92,
     "metadata": {},
     "output_type": "execute_result"
    }
   ],
   "source": [
    "len(dftemp) + len(dftemp2) + len(dftemp3)"
   ]
  },
  {
   "cell_type": "markdown",
   "id": "4562ad4a",
   "metadata": {},
   "source": [
    "**#Users who used sample file only**"
   ]
  },
  {
   "cell_type": "code",
   "execution_count": 101,
   "id": "09cc2fc5",
   "metadata": {},
   "outputs": [
    {
     "name": "stdout",
     "output_type": "stream",
     "text": [
      "37 users used /gqn to upload sample files for quote.\n"
     ]
    }
   ],
   "source": [
    "samplefilecount = (dftemp['usingownfile']==0).sum() + (dftemp2['usingownfile']==0).sum() + (dftemp3['usingownfile']==0).sum()\n",
    "print(f\"{samplefilecount} users used /gqn to upload sample files for quote.\")"
   ]
  },
  {
   "cell_type": "code",
   "execution_count": 102,
   "id": "97e473e1",
   "metadata": {},
   "outputs": [
    {
     "name": "stdout",
     "output_type": "stream",
     "text": [
      "47 users used /gqn to upload own files for quote.\n"
     ]
    }
   ],
   "source": [
    "ownfilecount = (dftemp['usingownfile']>0).sum() + (dftemp2['usingownfile']>0).sum() + (dftemp3['usingownfile']>0).sum()\n",
    "print(f\"{ownfilecount} users used /gqn to upload own files for quote.\")"
   ]
  },
  {
   "cell_type": "code",
   "execution_count": null,
   "id": "8b18de08",
   "metadata": {},
   "outputs": [],
   "source": []
  },
  {
   "cell_type": "code",
   "execution_count": null,
   "id": "c9fa66bc",
   "metadata": {},
   "outputs": [],
   "source": []
  },
  {
   "cell_type": "code",
   "execution_count": 93,
   "id": "8d90c803",
   "metadata": {},
   "outputs": [
    {
     "data": {
      "text/plain": [
       "84"
      ]
     },
     "execution_count": 93,
     "metadata": {},
     "output_type": "execute_result"
    }
   ],
   "source": [
    "df_signup_gqn\n",
    "len(df_gqn)"
   ]
  },
  {
   "cell_type": "markdown",
   "id": "7e68c4df",
   "metadata": {
    "scrolled": true
   },
   "source": [
    "import json\n",
    "# Function to check if 'Factorem_Sample_Part' is in 'customer_cad_file_location'\n",
    "def extract_cad_file_location(meta_json):\n",
    "    try:\n",
    "        json_data = json.loads(meta_json)\n",
    "        return json_data['request']['parameters']['customer_cad_file_location']\n",
    "    except (KeyError, json.JSONDecodeError):\n",
    "        return None  # Return None if the JSON structure is invalid or key is missing\n",
    "\n",
    "# Extract 'customer_cad_file_location' and store in a new column 'cad_file_location'\n",
    "df_gqn['cad_file_location'] = df_gqn['meta'].apply(extract_cad_file_location)\n",
    "\n",
    "# Create the 'usingsamplefile' column by checking if 'Factorem_Sample_Part' is in 'cad_file_location'\n",
    "df_gqn['usingownfile'] = df_gqn['cad_file_location'].apply(lambda x: 0 if x and 'Factorem_Sample_Part' in x else 1)\n",
    "\n",
    "df_gqn.head()"
   ]
  },
  {
   "cell_type": "code",
   "execution_count": null,
   "id": "7572a53b",
   "metadata": {},
   "outputs": [],
   "source": []
  }
 ],
 "metadata": {
  "kernelspec": {
   "display_name": "Python 3 (ipykernel)",
   "language": "python",
   "name": "python3"
  },
  "language_info": {
   "codemirror_mode": {
    "name": "ipython",
    "version": 3
   },
   "file_extension": ".py",
   "mimetype": "text/x-python",
   "name": "python",
   "nbconvert_exporter": "python",
   "pygments_lexer": "ipython3",
   "version": "3.11.5"
  }
 },
 "nbformat": 4,
 "nbformat_minor": 5
}
